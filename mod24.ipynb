{
  "nbformat": 4,
  "nbformat_minor": 0,
  "metadata": {
    "colab": {
      "provenance": [],
      "authorship_tag": "ABX9TyM6XLgpFE1Hh5IbLh2HWRLf",
      "include_colab_link": true
    },
    "kernelspec": {
      "name": "python3",
      "display_name": "Python 3"
    },
    "language_info": {
      "name": "python"
    }
  },
  "cells": [
    {
      "cell_type": "markdown",
      "metadata": {
        "id": "view-in-github",
        "colab_type": "text"
      },
      "source": [
        "<a href=\"https://colab.research.google.com/github/linomcgenai/EstatidadosPythonBasico/blob/main/mod24.ipynb\" target=\"_parent\"><img src=\"https://colab.research.google.com/assets/colab-badge.svg\" alt=\"Open In Colab\"/></a>"
      ]
    },
    {
      "cell_type": "markdown",
      "source": [
        "### Módulo 2\n",
        "\n",
        "2.4 Operadores com String"
      ],
      "metadata": {
        "id": "VwkoeuDMuwTX"
      }
    },
    {
      "cell_type": "markdown",
      "source": [
        "2.4.1 **Variáveis String**\n",
        "\n",
        "Variáveis do tipo string armazenam cadeias de caracteres como nomes e textos em geral.\n",
        "\n",
        "Cadeia de Caracteres é uma sequência de simbolos como letras, números, sinais de pontuação, etc\n",
        "\n",
        "__*Para possibilitar a separação entre o texto do seu programa e o conteúdo de uma string, é utilizado aspas(\"), para delimitar o início e o fim da sequência de caracteres.*__"
      ],
      "metadata": {
        "id": "mWFl2eBm2VdX"
      }
    },
    {
      "cell_type": "markdown",
      "source": [
        "Uma string tem uma tamanho associado.\n",
        "\n",
        "O tamanho de uma string pode ser obtido utilizando a função **len**, essa função retorna o número de caracteres na string."
      ],
      "metadata": {
        "id": "S1rzbSqD3h0L"
      }
    },
    {
      "cell_type": "code",
      "execution_count": null,
      "metadata": {
        "id": "JMWFp1hPrCAp"
      },
      "outputs": [],
      "source": [
        "frase = 'joão e maria jogam migalhas de pão pelo caminho'\n",
        "print(len(frase), ' ou ', len('joão e maria jogam migalhas de pão pelo caminho'))"
      ]
    },
    {
      "cell_type": "markdown",
      "source": [
        "**Uma string pode ter seu conteúdo acessado caracter a caracter**.\n",
        "\n",
        "Sabendo que uma string tem um determinado tamanho, podemos acessar seus caracteres utilizando um número inteiro que representa a posição do caracter na string. Esse número é chamado de **índice**, e começamos a contar do zero, que se refere ao primeiro caracter."
      ],
      "metadata": {
        "id": "fGkTwk8D415y"
      }
    },
    {
      "cell_type": "code",
      "source": [
        "frase[0]"
      ],
      "metadata": {
        "id": "fClVswx55-o9"
      },
      "execution_count": null,
      "outputs": []
    },
    {
      "cell_type": "markdown",
      "source": [
        "**Strings suportam operações como fatiamento, concatenação e composição**\n",
        "\n",
        "1. Fatiamento: é a capacidade de utilizar apenas uma parte ou fatia da string\n",
        "2. Concatenação: é juntar duas ou mais strings em uma nova string\n",
        "3. Composição: é utilizada em mensagens que enviamos à tela e consiste em utilizar strings como modelos em que podemos inserir outras strings."
      ],
      "metadata": {
        "id": "LRDed-5K6Fmj"
      }
    },
    {
      "cell_type": "markdown",
      "source": [
        "**Fatiamento**\n",
        "\n",
        "O fatiamento simples funciona com a utilização de dois pontos (:) no índice da string. [esquerda: direita]\n",
        "\n",
        "* esquerda: é a posição de ínicio da fatia.\n",
        "* direita: é a posição que termina a fatia da string"
      ],
      "metadata": {
        "id": "-VlSMlenQTzO"
      }
    },
    {
      "cell_type": "code",
      "source": [
        "# fatiamento\n",
        "print('tamanho da string é ', len(frase))\n",
        "print(frase)\n",
        "print (frase[:4]) # joão, nesse formato a string é fatiada da esquerda para direita\n",
        "print(frase[7:12]) # maria, nesse formato a string é fatiada da esquerda para direita\n",
        "print(frase[-7:]) # caminho, nesse formato a string é fatiada da direita para direita, [47-7:] = [40:]"
      ],
      "metadata": {
        "id": "x4mO1_kUL3_4"
      },
      "execution_count": null,
      "outputs": []
    },
    {
      "cell_type": "markdown",
      "source": [
        "**Concatenação**\n",
        "\n",
        "É o conteúdo de strings que podem concatenados. Para concatenar duas strings de forma simples, se utiliza o operador da adição(+). Para repetir um string de forma simples, se utiliza o operador da multiplcação (*)."
      ],
      "metadata": {
        "id": "aigfzSOaRV-p"
      }
    },
    {
      "cell_type": "code",
      "source": [
        "# concatenação\n",
        "adicao_frase = ' mesmo assim se perdem'\n",
        "print(frase + ' mas os passaros comem')\n",
        "print(frase + adicao_frase)\n",
        "print(adicao_frase*3)"
      ],
      "metadata": {
        "id": "TV42d52lMbJ4"
      },
      "execution_count": null,
      "outputs": []
    },
    {
      "cell_type": "markdown",
      "source": [
        "**Composição**\n",
        "\n",
        "Com f-strings prefixamos a string com a letra f, escrevemos o nome da variável diretamente na string entre chaves {}, essa forma é mais compacta que nos outros métodos."
      ],
      "metadata": {
        "id": "slshuEHvSJbL"
      }
    },
    {
      "cell_type": "code",
      "source": [
        "# Composição\n",
        "nome = 'joão'\n",
        "idade = 33\n",
        "altura = 1.86\n",
        "f'O {nome} tem {idade} anos e {altura}m de altura'"
      ],
      "metadata": {
        "id": "ER-aLlxLOfP9"
      },
      "execution_count": null,
      "outputs": []
    }
  ]
}