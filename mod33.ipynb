{
  "nbformat": 4,
  "nbformat_minor": 0,
  "metadata": {
    "colab": {
      "provenance": [],
      "authorship_tag": "ABX9TyOQyJleGcrtf6T5nq/l4D3K",
      "include_colab_link": true
    },
    "kernelspec": {
      "name": "python3",
      "display_name": "Python 3"
    },
    "language_info": {
      "name": "python"
    }
  },
  "cells": [
    {
      "cell_type": "markdown",
      "metadata": {
        "id": "view-in-github",
        "colab_type": "text"
      },
      "source": [
        "<a href=\"https://colab.research.google.com/github/linomcgenai/EstatidadosPythonBasico/blob/main/mod33.ipynb\" target=\"_parent\"><img src=\"https://colab.research.google.com/assets/colab-badge.svg\" alt=\"Open In Colab\"/></a>"
      ]
    },
    {
      "cell_type": "markdown",
      "source": [
        "# Módulo 3\n",
        "\n",
        "### Variáveis Locais e Globais\n",
        "\n",
        "* Em funções na linguagem de programação python:\n",
        "\n",
        "    - Quando as variáveis são criadas dentro da função (def), as **variáveis são LOCAIS**\n",
        "\n",
        "    - Quando as variáveis são criadas fora da função (def), as **variáveis são GLOBAIS**"
      ],
      "metadata": {
        "id": "bXVqJCxwHMOa"
      }
    },
    {
      "cell_type": "markdown",
      "source": [
        "**variáveis locais**\n",
        "\n",
        "obs. Que tal juntarmos com um pouco do conteúdo mod. 3.2"
      ],
      "metadata": {
        "id": "EjE6A5uXJqdG"
      }
    },
    {
      "cell_type": "code",
      "execution_count": 1,
      "metadata": {
        "id": "ZWtr3hBtGvtN"
      },
      "outputs": [],
      "source": [
        "def estilo_musical(estilo):\n",
        "  print(estilo)\n",
        "  print(estilo)\n",
        "\n",
        "def variaveis_locais(parte1, parte2):\n",
        "  juntando_variaveis = parte1 + parte2\n",
        "  estilo_musical(juntando_variaveis)\n",
        "\n"
      ]
    },
    {
      "cell_type": "code",
      "source": [
        "variaveis_locais('samba ', 'mandacaru')"
      ],
      "metadata": {
        "id": "mrj04FD-LVuC"
      },
      "execution_count": null,
      "outputs": []
    },
    {
      "cell_type": "markdown",
      "source": [
        "**Variáveis Globais**\n",
        "\n",
        "Obs. é importante executar antes as células com as funções."
      ],
      "metadata": {
        "id": "iZPqmowPLy7C"
      }
    },
    {
      "cell_type": "code",
      "source": [
        "variavel_global01 = 'O samba é um estilo musical que ganhou o mundo.'\n",
        "variavel_global02 = ' Quem não gosta de samba?'\n",
        "\n",
        "variaveis_locais(variavel_global01, variavel_global02)"
      ],
      "metadata": {
        "id": "nhCsqgSmLxx1"
      },
      "execution_count": null,
      "outputs": []
    },
    {
      "cell_type": "markdown",
      "source": [
        "**Crie uma função com variáveis locais e depois usa essa função com variáveis globais**"
      ],
      "metadata": {
        "id": "4YdKYL3GNEP6"
      }
    },
    {
      "cell_type": "code",
      "source": [],
      "metadata": {
        "id": "DkdsO_BHNRt2"
      },
      "execution_count": null,
      "outputs": []
    }
  ]
}