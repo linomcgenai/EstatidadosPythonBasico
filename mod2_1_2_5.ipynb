{
  "nbformat": 4,
  "nbformat_minor": 0,
  "metadata": {
    "colab": {
      "provenance": [],
      "authorship_tag": "ABX9TyNuc5t08KfrAzO00Sd8wKZS",
      "include_colab_link": true
    },
    "kernelspec": {
      "name": "python3",
      "display_name": "Python 3"
    },
    "language_info": {
      "name": "python"
    }
  },
  "cells": [
    {
      "cell_type": "markdown",
      "metadata": {
        "id": "view-in-github",
        "colab_type": "text"
      },
      "source": [
        "<a href=\"https://colab.research.google.com/github/linomcgenai/EstatidadosPythonBasico/blob/main/mod2_1_2_5.ipynb\" target=\"_parent\"><img src=\"https://colab.research.google.com/assets/colab-badge.svg\" alt=\"Open In Colab\"/></a>"
      ]
    },
    {
      "cell_type": "markdown",
      "source": [
        "## Módulo 02\n",
        "\n",
        "2.1 Conceito de nomes para variáveis e variáveis.\n",
        "\n",
        "2.2 Conceito de Variáveis Numéricas\n",
        "\n",
        "2.5 Conceito de Entrada de Dados"
      ],
      "metadata": {
        "id": "FG0mcvSI9cto"
      }
    },
    {
      "cell_type": "markdown",
      "source": [
        "Vamos pensar no conceito que são os nomes de variáveis de forma aplicada.\n",
        "\n",
        "__*Nomes de variáveis em python devem iniciar obrigatoriamente com uma letra, mas podem conter numeros e simbolos como (_)*__\n",
        "\n",
        "__*Uma variável é simplesmente um nome (que seja significativo) que faz referência a um objeto na memória*__\n",
        "\n",
        "__*print(): imprime (exibe = saída para o usuário) na tela para o usuário o que estiver dentro dos parenteses() do print*__"
      ],
      "metadata": {
        "id": "buj25iBKp6pW"
      }
    },
    {
      "cell_type": "markdown",
      "source": [
        "Temos um modelo de carro, fabricado em 2019, quero saber o valor médio, para vendê-lo, e a referência que tenho são dos quatro carros a venda do mesmo modelo e ano.\n",
        "\n",
        "informações:\n",
        "\n",
        "carro 1 = R$31.000,00\n",
        "\n",
        "carro 2 = R$33.000,00\n",
        "\n",
        "carro 3 = R$29.500,00\n",
        "\n",
        "carro 4 = R$28.000,00\n",
        "\n",
        "Quais seriam as variáveis e quais nomes dariam a elas\n",
        "\n",
        "obs. fórmula da média:\n",
        "$\\frac{(\\sum_{i=1}^{4} x_i)}{4}$ = $\\frac{(carro 1 + carro 2 + carro 3 + carro 4)}{4}$\n",
        "\n",
        "obs. o __*i*__ vem de iterador, é uma convenção,\n",
        "\n",
        "o valor médio é R$30.375,00."
      ],
      "metadata": {
        "id": "RsTTJpuyrGUg"
      }
    },
    {
      "cell_type": "code",
      "execution_count": 1,
      "metadata": {
        "id": "cdippFm59XOV"
      },
      "outputs": [],
      "source": [
        "# escreva o cálculo aqui\n",
        "valorMedioCarro = (31000+33000+29500+28000)/4"
      ]
    },
    {
      "cell_type": "code",
      "source": [
        "print(valorMedioCarro)"
      ],
      "metadata": {
        "colab": {
          "base_uri": "https://localhost:8080/"
        },
        "id": "_TRzuZHgaUwh",
        "outputId": "4f9a4856-0f87-4025-a5a4-4564a36c3193"
      },
      "execution_count": 2,
      "outputs": [
        {
          "output_type": "stream",
          "name": "stdout",
          "text": [
            "30375.0\n"
          ]
        }
      ]
    },
    {
      "cell_type": "code",
      "source": [
        "carro1=31000\n",
        "carro2=33000\n",
        "carro3=29500\n",
        "carro4=28000\n",
        "valorMedioCarroX=(carro1+carro2+carro3+carro4)/4"
      ],
      "metadata": {
        "id": "sUljXnbKa0Xz"
      },
      "execution_count": 3,
      "outputs": []
    },
    {
      "cell_type": "code",
      "source": [
        "print(valorMedioCarroX)\n",
        "print(valorMedioCarroX==valorMedioCarro)"
      ],
      "metadata": {
        "colab": {
          "base_uri": "https://localhost:8080/"
        },
        "id": "M-Ffg1WRbSeq",
        "outputId": "0f779497-741c-4ddf-c512-f7ca31816ce6"
      },
      "execution_count": 13,
      "outputs": [
        {
          "output_type": "stream",
          "name": "stdout",
          "text": [
            "30375.0\n",
            "True\n"
          ]
        }
      ]
    },
    {
      "cell_type": "markdown",
      "source": [
        "Queremos trazer uma questão prática e trarei algumas ferramentas do python que serão abordadas em módulos posteriores.\n",
        "\n",
        "Problema:\n",
        "Queremos inserir os alunos na lista de chamada, e saber quantos alunos são?"
      ],
      "metadata": {
        "id": "_6wcvIY-z-z_"
      }
    },
    {
      "cell_type": "code",
      "source": [
        "from os import listxattr\n",
        "# escreva aqui\n",
        "lista_alunos=[]\n",
        "while True:\n",
        "  nome = input('qual o nome do(a) aluno(a): ')\n",
        "  if nome =='':\n",
        "    break\n",
        "  lista_alunos.append(nome)\n",
        "\n",
        "print(f'A turma tem {len(lista_alunos)}, e a lista de alunos é {lista_alunos}')"
      ],
      "metadata": {
        "id": "Aec-FvXd11Rn",
        "colab": {
          "base_uri": "https://localhost:8080/"
        },
        "outputId": "1809edb9-dd07-4f30-e14e-1224e9aac241"
      },
      "execution_count": 6,
      "outputs": [
        {
          "output_type": "stream",
          "name": "stdout",
          "text": [
            "qual o nome do(a) aluno(a): \n",
            "A turma tem 0, e a lista de alunos é []\n"
          ]
        }
      ]
    },
    {
      "cell_type": "markdown",
      "source": [
        "Nessa parte vamos apresentar o conceito para criar as variáveis numéricas.\n",
        "\n",
        "Vamos falar e trabalhar com o __*input()*__:\n",
        "\n",
        "1. é uma função do python que permite que o programa obtenha dados do usuários.\n",
        "2. Sintaxe básica:\n",
        "    * variável = __*input('mensagem para o usuário é opcional')*__\n",
        "      * escolha o nome da variável que seja coerente com os dados que estão sendo obtidos\n",
        "      * tente sempre que possível escrever uma mensagem para orientar o usuário no que deseja de informação na entrada de dados.\n",
        "      * todo o input por padrão guarda os dados na variável como texto, que é o tipo string (str).\n",
        "      * todo o texto em python precisa estar em **' '** (no teclado são as apostrofes) ou **\" \"** (no teclado são as aspas duplas)\n",
        "3. Vamos converter o tipo original para os tipos numéricos que iremos desenvolver ao longo do curso, para efeitos didáticos todas as entradas precisam ser corretas, em resumo números:\n",
        "    * Sintaxe básica:\n",
        "      * variavel = __*int(input('mensagem'))*__\n",
        "        * precisamos aplicar os mesmos conceitos citados acima\n",
        "        * **_int_** converte a entrada tipo str (texto) em numérico do tipo inteiro (conjuntos dos números inteiros)\n",
        "      * variavel = __*float(input('mensagem'))*__\n",
        "        * precisamos aplicar os mesmos conceitos citados acima\n",
        "        * __*float*__ converte a entrada tipo str (texto) em numérico com casas decimais (conjuntos dos números reais) e são separados por ponto, não com vírgula.  Ex. pi = 3.14\n"
      ],
      "metadata": {
        "id": "SNNNFpqg5cer"
      }
    },
    {
      "cell_type": "markdown",
      "source": [
        "| Operador | Função | Exemplo\n",
        "|----------|--------|----------\n",
        "| + | Adição | 5 + 2 resulta em \\(7\\)\n",
        "| - | Subtração | 5 - 2 resulta em \\(3\\)\n",
        "| * | Multiplicação | 5 * 2 resulta em \\(10\\)\n",
        "| / | Divisão | 5 / 2 resulta em \\(2.5\\)\n",
        "| ** | Exponenciação | (elevar à potência)  (2³), resulta em \\(8\\)\n",
        "| // | Divisão de piso | (arredonda para baixo) 5 // 2 resulta em \\(2\\)\n",
        "|% |Módulo | (resto da divisão) 5 % 2 resulta em \\(1\\)"
      ],
      "metadata": {
        "id": "U6MyYiLzXbri"
      }
    },
    {
      "cell_type": "markdown",
      "source": [
        "1. Qual a distância do planeta terra até a Lua, em quilômetros (km)?\n",
        "2. Qual sua altura em metros (m)?"
      ],
      "metadata": {
        "id": "pKTlW9YpdbH-"
      }
    },
    {
      "cell_type": "code",
      "source": [
        "distancia_terra_lua = int(input('qual a distancia da terra para lua (km): '))\n",
        "altura = float(input('qual sua altura (m): '))\n",
        "\n",
        "print('A distância da terra para lua é, ', distancia_terra_lua)\n",
        "print('Sua altura é,', altura)"
      ],
      "metadata": {
        "id": "4IWy7ePjerga"
      },
      "execution_count": null,
      "outputs": []
    },
    {
      "cell_type": "markdown",
      "source": [
        "Faça um programa que peça três números e imprima a soma dos três"
      ],
      "metadata": {
        "id": "Jq0F1lzFr0S_"
      }
    },
    {
      "cell_type": "code",
      "source": [
        "# crie o programa aqui"
      ],
      "metadata": {
        "id": "KlN4aaersaq_"
      },
      "execution_count": null,
      "outputs": []
    },
    {
      "cell_type": "markdown",
      "source": [
        "Faça um programa que leia a quantidade de dias e imprima o total em segundos (converta os dias da entrada para segundos)"
      ],
      "metadata": {
        "id": "AJQxu_ONse8D"
      }
    },
    {
      "cell_type": "code",
      "source": [
        "# crie o programa aqui"
      ],
      "metadata": {
        "id": "6HAxeg-ms_ZV"
      },
      "execution_count": null,
      "outputs": []
    },
    {
      "cell_type": "markdown",
      "source": [
        "Faça um programa que leia um valor em metros e o imprima convertido em milímetros"
      ],
      "metadata": {
        "id": "ZrciJp5KtMNA"
      }
    },
    {
      "cell_type": "code",
      "source": [
        "# crie o programa aqui"
      ],
      "metadata": {
        "id": "ZPQ8yijuteYK"
      },
      "execution_count": null,
      "outputs": []
    }
  ]
}