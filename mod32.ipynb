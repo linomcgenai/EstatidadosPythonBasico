{
  "nbformat": 4,
  "nbformat_minor": 0,
  "metadata": {
    "colab": {
      "provenance": [],
      "authorship_tag": "ABX9TyPO4aCHBU/gJTjx8VVAGJNb",
      "include_colab_link": true
    },
    "kernelspec": {
      "name": "python3",
      "display_name": "Python 3"
    },
    "language_info": {
      "name": "python"
    }
  },
  "cells": [
    {
      "cell_type": "markdown",
      "metadata": {
        "id": "view-in-github",
        "colab_type": "text"
      },
      "source": [
        "<a href=\"https://colab.research.google.com/github/linomcgenai/EstatidadosPythonBasico/blob/main/mod32.ipynb\" target=\"_parent\"><img src=\"https://colab.research.google.com/assets/colab-badge.svg\" alt=\"Open In Colab\"/></a>"
      ]
    },
    {
      "cell_type": "markdown",
      "source": [
        "# Módulo 3\n",
        "\n",
        "## 3.2 Composição\n",
        "\n",
        "* Temos: Parâmetros, recursão"
      ],
      "metadata": {
        "id": "iKhsAQdRwWVD"
      }
    },
    {
      "cell_type": "markdown",
      "source": [
        "**Composição**\n",
        "\n",
        "- Como já vimos antes, estamos utilizando funções: input(), int() ou float(), que é uma das caracteristicas mais úteis das funções.\n",
        "\n",
        "- Diferente do que já foi visto, as instruções dentro de funções não são executadas, se não forem chamadas, conforme tópico 3.1, apenas preparadas pelo interpretador a partir das definições.\n",
        "\n",
        "- Para chamar uma função definida no programa, é da mesma forma das funções da linguagem: **nome da função seguida dos parâmetros entre parenteses**"
      ],
      "metadata": {
        "id": "9D_D5u9C2DHl"
      }
    },
    {
      "cell_type": "markdown",
      "source": [
        "Exemplo de função simples\n",
        "\n",
        "1. primeira linha é a definição da função, e chama-se **cabeçalho**\n",
        "\n",
        "    - o cabeçalho precisa terminar com **:**\n",
        "\n",
        "2. o resto é o **corpo**\n",
        "\n",
        "    - o corpo precisa estar **endentado**\n",
        "    \n",
        "      - por convenção, a endentação sempre é de quatro espaços\n",
        "\n",
        "    - **o corpo pode conter qualquer número de instruções**\n",
        ""
      ],
      "metadata": {
        "id": "iuB3AAj24MW6"
      }
    },
    {
      "cell_type": "code",
      "execution_count": null,
      "metadata": {
        "id": "9y8QEicYwTod"
      },
      "outputs": [],
      "source": [
        "def texto():\n",
        "  print('O que pode acalmar, alcançar sentimentos, pode alegrar, pode relembrar?')\n",
        "  print('Acho que pode ser música.')"
      ]
    },
    {
      "cell_type": "code",
      "source": [
        "texto()"
      ],
      "metadata": {
        "id": "mUXFhEwV7bZc"
      },
      "execution_count": null,
      "outputs": []
    },
    {
      "cell_type": "markdown",
      "source": [
        "Vamos deixar mais interessante?\n",
        "\n",
        "A sintaxe para a nova função é a mesma das funções integradas"
      ],
      "metadata": {
        "id": "AUOXzOGO7eYO"
      }
    },
    {
      "cell_type": "code",
      "source": [
        "def musica():\n",
        "  texto()\n",
        "  texto()"
      ],
      "metadata": {
        "id": "H35gPtFC7-fu"
      },
      "execution_count": null,
      "outputs": []
    },
    {
      "cell_type": "code",
      "source": [
        "musica()"
      ],
      "metadata": {
        "id": "knNF6Nl78C3J"
      },
      "execution_count": null,
      "outputs": []
    },
    {
      "cell_type": "markdown",
      "source": [
        "Crie duas funções uma integrada na outra"
      ],
      "metadata": {
        "id": "4msBPKs78Hsy"
      }
    },
    {
      "cell_type": "code",
      "source": [],
      "metadata": {
        "id": "-Msw0abn8O90"
      },
      "execution_count": null,
      "outputs": []
    },
    {
      "cell_type": "markdown",
      "source": [
        "* **Parâmetros e Argumentos**\n",
        "\n",
        "Algumas funções como foi visto, exigem argumentos. tópico 3.1, por exemplo math.sin, é necessário usar um número como argumento. Algumas funções exigem mais de um argumento.\n",
        "\n",
        "**IMPORTANTE**\n",
        "\n",
        "- Dentro da função, os argumentos são atribuídos a variáveis chamadas **parâmetros**"
      ],
      "metadata": {
        "id": "6197UOa28PtA"
      }
    },
    {
      "cell_type": "markdown",
      "source": [
        "Exemplo de uma função que precisa de um argumento"
      ],
      "metadata": {
        "id": "D3dySnUg9X3_"
      }
    },
    {
      "cell_type": "code",
      "source": [
        "def estilo_musical(estilo):\n",
        "  print(estilo)\n",
        "  print(estilo)"
      ],
      "metadata": {
        "id": "kLTwuuz19sEe"
      },
      "execution_count": 3,
      "outputs": []
    },
    {
      "cell_type": "markdown",
      "source": [
        "Está função atribui o argumento a um parâmetro chamado **estilo**. Quando a função é chamada, sua saída é o estilo escolhido duas vezes. Faça o teste logo abaixo"
      ],
      "metadata": {
        "id": "q_FKOT1L-FV5"
      }
    },
    {
      "cell_type": "code",
      "source": [
        "estilo_musical(estilo='samba')"
      ],
      "metadata": {
        "id": "8UuItnjQ92mH"
      },
      "execution_count": null,
      "outputs": []
    },
    {
      "cell_type": "markdown",
      "source": [
        "Crie uma função com argumento"
      ],
      "metadata": {
        "id": "XHK0AOGV-Edo"
      }
    },
    {
      "cell_type": "code",
      "source": [],
      "metadata": {
        "id": "Bsm5feSu-6R3"
      },
      "execution_count": null,
      "outputs": []
    },
    {
      "cell_type": "markdown",
      "source": [
        "Pode ficar mais interessante\n",
        "\n",
        "As regras de composição usadas em funções integradas (funções originarias da própria linguagem de programação python) também são aplicáveis a funções criadas por nós, desenvolvedores python. Vamos testar na função *estilo_musical*\n",
        "\n",
        "**IMPORTANTE**\n",
        "\n",
        "Execute a célula que a função foi criada antes de chama-lá novamente."
      ],
      "metadata": {
        "id": "ypAUUodk-7SU"
      }
    },
    {
      "cell_type": "code",
      "source": [
        "estilo_musical(estilo='samba '*5)"
      ],
      "metadata": {
        "id": "u75VhpNZ_4St"
      },
      "execution_count": null,
      "outputs": []
    },
    {
      "cell_type": "markdown",
      "source": [
        "podemos compor dentro de funções criadas por nós operações que aprendemos no módulo 2, e muito mais."
      ],
      "metadata": {
        "id": "H-kwvAl1AHGw"
      }
    }
  ]
}