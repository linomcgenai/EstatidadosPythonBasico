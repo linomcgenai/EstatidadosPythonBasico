{
  "nbformat": 4,
  "nbformat_minor": 0,
  "metadata": {
    "colab": {
      "provenance": [],
      "authorship_tag": "ABX9TyM7qr5Qi0CECrE+vK2s6GEC",
      "include_colab_link": true
    },
    "kernelspec": {
      "name": "python3",
      "display_name": "Python 3"
    },
    "language_info": {
      "name": "python"
    }
  },
  "cells": [
    {
      "cell_type": "markdown",
      "metadata": {
        "id": "view-in-github",
        "colab_type": "text"
      },
      "source": [
        "<a href=\"https://colab.research.google.com/github/linomcgenai/EstatidadosPythonBasico/blob/main/apresentacao.ipynb\" target=\"_parent\"><img src=\"https://colab.research.google.com/assets/colab-badge.svg\" alt=\"Open In Colab\"/></a>"
      ]
    },
    {
      "cell_type": "markdown",
      "source": [
        "# Curso de Python\n",
        "\n",
        "### Será um curso de python básico.\n",
        "\n",
        "* Referências:\n",
        "\n",
        "  1. Python Fluente, ed. 01\n",
        "  2. Introdução à programação com python, ed. 03\n",
        "  3. Pense em python, ed. 02 (atualizada p/ python 3)"
      ],
      "metadata": {
        "id": "O8yY7YHPsbz6"
      }
    },
    {
      "cell_type": "markdown",
      "source": [
        "### Módulo 01\n",
        "\n",
        "O módulo tem a função de te apresentar ao notebook do colaboratory.\n",
        "\n",
        "O primeiro código será o Olá Mundo!"
      ],
      "metadata": {
        "id": "mvxEYoIP4C5a"
      }
    },
    {
      "cell_type": "code",
      "execution_count": null,
      "metadata": {
        "id": "2nxW-aoIrCNt"
      },
      "outputs": [],
      "source": [
        "print('Olá mundo!')"
      ]
    },
    {
      "cell_type": "code",
      "source": [],
      "metadata": {
        "id": "uv5VP_1h4gCn"
      },
      "execution_count": null,
      "outputs": []
    }
  ]
}