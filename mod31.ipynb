{
  "nbformat": 4,
  "nbformat_minor": 0,
  "metadata": {
    "colab": {
      "provenance": [],
      "authorship_tag": "ABX9TyMsxMiWO5OopaK781j666xt",
      "include_colab_link": true
    },
    "kernelspec": {
      "name": "python3",
      "display_name": "Python 3"
    },
    "language_info": {
      "name": "python"
    }
  },
  "cells": [
    {
      "cell_type": "markdown",
      "metadata": {
        "id": "view-in-github",
        "colab_type": "text"
      },
      "source": [
        "<a href=\"https://colab.research.google.com/github/linomcgenai/EstatidadosPythonBasico/blob/main/mod31.ipynb\" target=\"_parent\"><img src=\"https://colab.research.google.com/assets/colab-badge.svg\" alt=\"Open In Colab\"/></a>"
      ]
    },
    {
      "cell_type": "markdown",
      "source": [
        "# Módulo 03\n",
        "\n",
        "## 3.1 Funções\n",
        "\n",
        "1. O que é função na programação na linguagem Python?\n",
        "  * É uma sequência nomeada de instruções que executa operações de computação.\n",
        "\n",
        "2. Como podemos definir uma função e qual é seu objetivo básico na linguagem python?\n",
        "\n",
        "  * definindo função (def): de forma geral é especificar o nome e a sequência de instruções dentro dela. Após ser finalizada pode **chamar** pelo nome. É usual dizer que uma função **recebe** um argumento e **retorna** um resultado, mas não é o único formato.\n",
        "  * Objetivo básico de função: finalidade de executar tarefas específicas em um trecho de programa. Essa estrutura permite que a solução de um problema seja reutilizado em outras partes do programa (módulo), sem que precise escrever as mesmas linhas de código.\n",
        "\n",
        "  Exemplo: quero saber que tipo de dado é o número inteiro **45**, quero saber também que tipo de dado é a palavra **estatidados**\n",
        "  \n",
        "  * Para isso basta chamar a função type()"
      ],
      "metadata": {
        "id": "0XZUiZajBhOH"
      }
    },
    {
      "cell_type": "code",
      "source": [
        "type(45)"
      ],
      "metadata": {
        "colab": {
          "base_uri": "https://localhost:8080/"
        },
        "id": "lxlj3m0sFqT0",
        "outputId": "cc8967f5-fa68-4a9b-fdec-23cd7837f4a8"
      },
      "execution_count": null,
      "outputs": [
        {
          "output_type": "execute_result",
          "data": {
            "text/plain": [
              "int"
            ]
          },
          "metadata": {},
          "execution_count": 1
        }
      ]
    },
    {
      "cell_type": "code",
      "execution_count": null,
      "metadata": {
        "colab": {
          "base_uri": "https://localhost:8080/"
        },
        "id": "cB3JeTDLBfgT",
        "outputId": "1fe948c6-9aa0-4213-f952-3b5fe806497b"
      },
      "outputs": [
        {
          "output_type": "execute_result",
          "data": {
            "text/plain": [
              "str"
            ]
          },
          "metadata": {},
          "execution_count": 2
        }
      ],
      "source": [
        "type('estatidados')"
      ]
    },
    {
      "cell_type": "markdown",
      "source": [
        "Vamos testar mais um pouco, vamos usar as funções que trabalhamos no módulo 02\n",
        "\n",
        "input, int e float"
      ],
      "metadata": {
        "id": "xcJsgm4RIdJs"
      }
    },
    {
      "cell_type": "code",
      "source": [
        "idade = input('quantos anos você tem: ')\n",
        "type(idade)"
      ],
      "metadata": {
        "colab": {
          "base_uri": "https://localhost:8080/"
        },
        "id": "Vvd0J8XUIrVO",
        "outputId": "6493a0e1-41a9-4542-bb85-cbed635a03af"
      },
      "execution_count": null,
      "outputs": [
        {
          "name": "stdout",
          "output_type": "stream",
          "text": [
            "quantos anos você tem: 45\n"
          ]
        },
        {
          "output_type": "execute_result",
          "data": {
            "text/plain": [
              "str"
            ]
          },
          "metadata": {},
          "execution_count": 3
        }
      ]
    },
    {
      "cell_type": "code",
      "source": [
        "idade = int(input('quantos anos você tem: '))\n",
        "type(idade)"
      ],
      "metadata": {
        "colab": {
          "base_uri": "https://localhost:8080/"
        },
        "id": "YSwOyAuQI6L-",
        "outputId": "0d5c2b13-063a-4cf1-cb90-464177566a17"
      },
      "execution_count": null,
      "outputs": [
        {
          "name": "stdout",
          "output_type": "stream",
          "text": [
            "quantos anos você tem: 45\n"
          ]
        },
        {
          "output_type": "execute_result",
          "data": {
            "text/plain": [
              "int"
            ]
          },
          "metadata": {},
          "execution_count": 4
        }
      ]
    },
    {
      "cell_type": "code",
      "source": [
        "alturapessoa = input('qual sua altura (metros): ')\n",
        "type(alturapessoa)"
      ],
      "metadata": {
        "colab": {
          "base_uri": "https://localhost:8080/"
        },
        "id": "NLzsg-2LJI5U",
        "outputId": "9414c0dd-af94-4b55-dd28-6caf79644d9f"
      },
      "execution_count": null,
      "outputs": [
        {
          "name": "stdout",
          "output_type": "stream",
          "text": [
            "qual sua altura (metros): 1,86\n"
          ]
        },
        {
          "output_type": "execute_result",
          "data": {
            "text/plain": [
              "str"
            ]
          },
          "metadata": {},
          "execution_count": 6
        }
      ]
    },
    {
      "cell_type": "code",
      "source": [
        "# separe a parte inteira da fração por ponto, não por virgula\n",
        "alturapessoa = float(input('qual sua altura (metros): '))\n",
        "type(alturapessoa)"
      ],
      "metadata": {
        "colab": {
          "base_uri": "https://localhost:8080/"
        },
        "id": "NQm4yx1uJa_S",
        "outputId": "d608ae79-eda2-491b-dd30-971a8bdcf862"
      },
      "execution_count": null,
      "outputs": [
        {
          "name": "stdout",
          "output_type": "stream",
          "text": [
            "qual sua altura (metros): 1.86\n"
          ]
        },
        {
          "output_type": "execute_result",
          "data": {
            "text/plain": [
              "float"
            ]
          },
          "metadata": {},
          "execution_count": 7
        }
      ]
    },
    {
      "cell_type": "markdown",
      "source": [
        "#### Como importar funções na linguagem python\n",
        "\n",
        "Vamos importar funções matemáticas\n",
        "\n",
        "basta escrever _**import**_ e o nome da função _**nome_função**_\n",
        "\n",
        "*import math*"
      ],
      "metadata": {
        "id": "xmkj6URuGlHw"
      }
    },
    {
      "cell_type": "code",
      "source": [
        "import math"
      ],
      "metadata": {
        "id": "IFDt-lKhSoiq"
      },
      "execution_count": null,
      "outputs": []
    },
    {
      "cell_type": "markdown",
      "source": [
        "Depois da função presente, basta chamar os módulos que são desejado.\n",
        "\n",
        "No meu caso quero o seno, como se faz para chamar:\n",
        "\n",
        "função.módulo(paramêtro(s))\n",
        "math.sin(xx)"
      ],
      "metadata": {
        "id": "9NowxFokiC6K"
      }
    },
    {
      "cell_type": "code",
      "source": [
        "import math # essa repetição é didática, para reforçar que é necessário importa a função antes de usar qualquer módulo.\n",
        "radianos = 0.7\n",
        "print(math.sin(radianos))"
      ],
      "metadata": {
        "id": "RyTGGwQBijsd"
      },
      "execution_count": null,
      "outputs": []
    },
    {
      "cell_type": "markdown",
      "source": [
        "Qual o cosseno de 0.7 radianos?"
      ],
      "metadata": {
        "id": "oL16N3RQjCQs"
      }
    },
    {
      "cell_type": "code",
      "source": [],
      "metadata": {
        "id": "CRqD2JRvjHxR"
      },
      "execution_count": null,
      "outputs": []
    }
  ]
}