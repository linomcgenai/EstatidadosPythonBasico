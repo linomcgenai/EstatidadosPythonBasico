{
  "nbformat": 4,
  "nbformat_minor": 0,
  "metadata": {
    "colab": {
      "provenance": [],
      "authorship_tag": "ABX9TyOj8dXHvBwvuqRIkgZeVOB2",
      "include_colab_link": true
    },
    "kernelspec": {
      "name": "python3",
      "display_name": "Python 3"
    },
    "language_info": {
      "name": "python"
    }
  },
  "cells": [
    {
      "cell_type": "markdown",
      "metadata": {
        "id": "view-in-github",
        "colab_type": "text"
      },
      "source": [
        "<a href=\"https://colab.research.google.com/github/linomcgenai/EstatidadosPythonBasico/blob/main/mod2_3_4.ipynb\" target=\"_parent\"><img src=\"https://colab.research.google.com/assets/colab-badge.svg\" alt=\"Open In Colab\"/></a>"
      ]
    },
    {
      "cell_type": "markdown",
      "source": [
        "### Módulo 2\n",
        "\n",
        "2.3 __Operadores Relacionais__\n",
        "\n",
        "2.4 __Operadores Lógicos__\n"
      ],
      "metadata": {
        "id": "4oNAcgq6hfcI"
      }
    },
    {
      "cell_type": "markdown",
      "source": [
        "2.3 __Operadores Relacionais__\n",
        "\n",
        "Para realizar comparações lógicas se utiliza operadores relacionais.\n",
        "\n",
        "Segue a lista de operadores Relacionais:\n",
        "\n",
        " operador | operação  | simbolo matemático\n",
        "----------|-----------|--------------------\n",
        "| == | igualdade | =  \n",
        "| > | maior que | >  \n",
        "| < | menor que | <\n",
        "| != | diferente | $\\neq$\n",
        "| >= | maior ou igual | $\\ge$\n",
        "| <= | menor ou igual | $≤$\n"
      ],
      "metadata": {
        "id": "rnK8qozpKZF4"
      }
    },
    {
      "cell_type": "code",
      "execution_count": 1,
      "metadata": {
        "id": "vjKZJKJ0hbkr",
        "colab": {
          "base_uri": "https://localhost:8080/"
        },
        "outputId": "77568a7a-4db2-4cac-e809-767785481f44"
      },
      "outputs": [
        {
          "output_type": "stream",
          "name": "stdout",
          "text": [
            "True\n",
            "False\n",
            "False\n",
            "True\n"
          ]
        }
      ],
      "source": [
        "print(3+4>6)\n",
        "print(3==2)\n",
        "print(3+4!=7)\n",
        "print(2*3>=5)"
      ]
    },
    {
      "cell_type": "markdown",
      "source": [
        "2.4 __Operadores Lógicos__\n",
        "\n",
        "Para agrupar operações com a lógica booleana, utilizaremos operadores lógicos.\n",
        "\n",
        "Esses operadores podem ser traduzidos como: **negação**, **conjunção**, **disjunção**.\n",
        "\n",
        "O Python suporta três operadores basicos:\n",
        "\n",
        "| Operador | operação |\n",
        "|---|---|\n",
        "not | não\n",
        "and | e\n",
        "or | ou"
      ],
      "metadata": {
        "id": "MB7CWc1wXA5C"
      }
    },
    {
      "cell_type": "markdown",
      "source": [
        "(CESPE-2008-PM-AC) Considere as seguintes proposições. Quais estão corretas?\n",
        "\n",
        "1. 3+4=7 ou 7-4=3\n",
        "2. 3+4=7 ou 3+4>8\n",
        "3. $3²=-1$ ou $3²=9$\n",
        "4. $3²=-1$ ou $3²=1$"
      ],
      "metadata": {
        "id": "DacYxoVwZsDD"
      }
    },
    {
      "cell_type": "code",
      "source": [
        "print(3+4==7 or 7-4==3)\n",
        "print(3+4==7 or 3+4>8)\n",
        "print(3**2==-1 or 3**2==9)\n",
        "print(3**2==-1 or 3**2==1)"
      ],
      "metadata": {
        "id": "AlqOxA2tZNh5",
        "colab": {
          "base_uri": "https://localhost:8080/"
        },
        "outputId": "384d1e9b-ea0c-4dcc-888a-1e041b4fd254"
      },
      "execution_count": 2,
      "outputs": [
        {
          "output_type": "stream",
          "name": "stdout",
          "text": [
            "True\n",
            "True\n",
            "True\n",
            "False\n"
          ]
        }
      ]
    },
    {
      "cell_type": "markdown",
      "source": [
        "(UFPR-2008)Considere as proposições **p,q,r,s**. Sabendo que as proposições *p* e *q* são verdadeiras e *r* e *s* são falsas, qual das alternativas apresenta uma proposição falsa.\n",
        "\n",
        "1. ( p ou q) e (não s e q)\n",
        "2. ( p e q) ou r\n",
        "3. não( r e não s)\n",
        "4. não[(q e s) ou p]\n",
        "5. ( p ou r) e q"
      ],
      "metadata": {
        "id": "DbnKwyA-bH1g"
      }
    },
    {
      "cell_type": "code",
      "source": [
        "p=True\n",
        "q=True\n",
        "r=False\n",
        "s=False\n",
        "\n",
        "print((p or q) and (not s and q))\n",
        "print((p and q) or r)\n",
        "print(not(r and not s))\n",
        "print(not[(q and s) or p])\n",
        "print((p or r) and q)"
      ],
      "metadata": {
        "id": "oClFaZgTdqJE",
        "colab": {
          "base_uri": "https://localhost:8080/"
        },
        "outputId": "151f7269-57f3-4174-80ee-b7dc018d4717"
      },
      "execution_count": 3,
      "outputs": [
        {
          "output_type": "stream",
          "name": "stdout",
          "text": [
            "True\n",
            "True\n",
            "True\n",
            "False\n",
            "True\n"
          ]
        }
      ]
    }
  ]
}